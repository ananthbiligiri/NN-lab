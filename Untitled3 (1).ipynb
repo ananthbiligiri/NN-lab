{
 "cells": [
  {
   "cell_type": "code",
   "execution_count": null,
   "id": "8a5fa03d-d516-4413-83d3-145ced8a69e7",
   "metadata": {},
   "outputs": [],
   "source": [
    "import tensorflow as tf\n",
    "from tensorflow.keras.models import Sequential\n",
    "from tensorflow.keras.layers import Dense, Flatten, Input\n",
    "from tensorflow.keras.datasets import mnist\n",
    "\n",
    "# Load and preprocess MNIST dataset\n",
    "(x_train, y_train), (x_test, y_test) = mnist.load_data()\n",
    "x_train, x_test = x_train / 255.0, x_test / 255.0  # Normalize inputs to [0, 1]\n",
    "\n",
    "# Define the model\n",
    "model = Sequential([\n",
    "    Input(shape=(28, 28)),  # Define the input shape explicitly using Input layer\n",
    "    Flatten(),  # Flatten 28x28 images into a vector\n",
    "    Dense(128, activation='relu'),  # First hidden layer\n",
    "    Dense(128, activation='relu'),  # Second hidden layer\n",
    "    Dense(64, activation='relu'),   # Third hidden layer\n",
    "    Dense(64, activation='relu'),   # Fourth hidden layer\n",
    "    Dense(10, activation='softmax') # Output layer with 10 classes\n",
    "])\n",
    "\n",
    "# Compile and train the model\n",
    "model.compile(optimizer='adam', loss='sparse_categorical_crossentropy', metrics=['accuracy'])\n",
    "model.fit(x_train, y_train, epochs=10, batch_size=32, validation_split=0.2)\n",
    "print(\"\\n Training complete! \\n\")\n",
    "# Evaluate the model\n",
    "loss, accuracy = model.evaluate(x_test, y_test)\n",
    "print(f\"Test Loss: {loss:.4f}\")\n",
    "print(f\"Test Accuracy: {accuracy:.4f}\")"
   ]
  }
 ],
 "metadata": {
  "kernelspec": {
   "display_name": "Python 3 (ipykernel)",
   "language": "python",
   "name": "python3"
  },
  "language_info": {
   "codemirror_mode": {
    "name": "ipython",
    "version": 3
   },
   "file_extension": ".py",
   "mimetype": "text/x-python",
   "name": "python",
   "nbconvert_exporter": "python",
   "pygments_lexer": "ipython3",
   "version": "3.12.4"
  }
 },
 "nbformat": 4,
 "nbformat_minor": 5
}
