{
 "cells": [
  {
   "cell_type": "code",
   "execution_count": 12,
   "id": "c17b0dd2-691a-43a2-b9ba-a6a0ffc07a38",
   "metadata": {},
   "outputs": [
    {
     "name": "stdout",
     "output_type": "stream",
     "text": [
      "Epoch 1/5\n",
      "1875/1875 - 12s - 7ms/step - accuracy: 0.7849 - loss: 0.5966\n",
      "Epoch 2/5\n",
      "1875/1875 - 11s - 6ms/step - accuracy: 0.8575 - loss: 0.3965\n",
      "Epoch 3/5\n",
      "1875/1875 - 11s - 6ms/step - accuracy: 0.8761 - loss: 0.3462\n",
      "Epoch 4/5\n",
      "1875/1875 - 10s - 6ms/step - accuracy: 0.8868 - loss: 0.3134\n",
      "Epoch 5/5\n",
      "1875/1875 - 11s - 6ms/step - accuracy: 0.8952 - loss: 0.2889\n",
      "313/313 - 1s - 4ms/step - accuracy: 0.9005 - loss: 0.2727\n",
      "Test Accuracy: 0.9004999995231628,0.2727011442184448\n"
     ]
    }
   ],
   "source": [
    "import tensorflow as tf\n",
    "from tensorflow.keras import layers, regularizers\n",
    "from tensorflow.keras.datasets import fashion_mnist\n",
    "\n",
    "\n",
    "(x_train, y_train), (x_test, y_test) = fashion_mnist.load_data()\n",
    "x_train, x_test = x_train[..., None] / 255.0, x_test[..., None] / 255.0\n",
    "y_train, y_test = tf.keras.utils.to_categorical(y_train, 10), tf.keras.utils.to_categorical(y_test, 10)\n",
    "\n",
    "\n",
    "model = tf.keras.Sequential([\n",
    "    layers.Input(shape=(28, 28, 1)),\n",
    "    layers.Conv2D(32, (3, 3), activation='relu'), layers.MaxPooling2D(),\n",
    "    layers.Conv2D(64, (3, 3), activation='relu'), layers.MaxPooling2D(),\n",
    "    layers.Flatten(), layers.Dense(128, activation='relu'), layers.Dropout(0.6),\n",
    "    layers.Dense(10, activation='softmax')\n",
    "])\n",
    "model.compile(optimizer='adam', loss='categorical_crossentropy', metrics=['accuracy'])\n",
    "\n",
    "# Train and evaluate the model\n",
    "model.fit(x_train, y_train, epochs=5, batch_size=32, verbose=2)\n",
    "test_loss, test_acc = model.evaluate(x_test, y_test, verbose=2)\n",
    "print(f'Test Accuracy: {test_acc},{test_loss}')\n"
   ]
  },
  {
   "cell_type": "code",
   "execution_count": null,
   "id": "4f113062-c65f-4c3c-ab4e-38372c426f02",
   "metadata": {},
   "outputs": [],
   "source": []
  }
 ],
 "metadata": {
  "kernelspec": {
   "display_name": "Python 3 (ipykernel)",
   "language": "python",
   "name": "python3"
  },
  "language_info": {
   "codemirror_mode": {
    "name": "ipython",
    "version": 3
   },
   "file_extension": ".py",
   "mimetype": "text/x-python",
   "name": "python",
   "nbconvert_exporter": "python",
   "pygments_lexer": "ipython3",
   "version": "3.12.4"
  }
 },
 "nbformat": 4,
 "nbformat_minor": 5
}
